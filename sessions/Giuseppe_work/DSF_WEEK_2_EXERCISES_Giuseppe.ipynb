{
 "cells": [
  {
   "cell_type": "markdown",
   "metadata": {
    "colab_type": "text",
    "id": "_a2hajcA99-K"
   },
   "source": [
    "![BTS](https://github.com/vfp1/bts-mbds-data-science-foundations-2019/blob/master/sessions/img/Logo-BTS.jpg?raw=1)\n",
    "\n",
    "# WEEK 2: Assignements\n",
    "\n",
    "### Victor F. Pajuelo Madrigal <victor.pajuelo@bts.tech> - Data Science Foundations (2019-10-10)\n",
    "\n",
    "Open this notebook in Google Colaboratory: [![Open in Colab](https://colab.research.google.com/assets/colab-badge.svg)](https://colab.research.google.com/github/vfp1/bts-mbds-data-science-foundations-2019/blob/master/sessions/DSF_WEEK_2_EXERCISES.ipynb)"
   ]
  },
  {
   "cell_type": "markdown",
   "metadata": {
    "colab_type": "text",
    "id": "HCvH2cLM_1Cq"
   },
   "source": [
    "# Exercise 1: getting around GIT [OPTIONAL]\n",
    "\n",
    "You will be provided with further slides on next Tuesday class (15/10/2019). Meanwhile you can try to do the following:\n",
    "\n",
    "* Create a GitHub account\n",
    "* Fork the [repository](https://github.com/vfp1/bts-mbds-data-science-foundations-2019) from the course\n",
    "* Clone the repository in your own computer using `git clone`\n",
    "* Create a folder within `/sessions` where you will be creating your own notebooks. Since we are using notebooks, it is better that you leave the nootebooks from the course untouched, and that you rather create a copy of them in the  `/sessions` folder where you can edit them. Trust me, it will save you a lot of **merge conflict** problems.\n",
    "* Sync your fork to the remote origin (the original repo of the course) so you can update it with the new notebooks that I will be adding. Follow [this tutorial](https://help.github.com/en/articles/syncing-a-fork).\n",
    "* Return this exercise by commiting the whole notebook in your own git and pass the url to me"
   ]
  },
  {
   "cell_type": "markdown",
   "metadata": {
    "colab_type": "text",
    "id": "XrA3YsGkQVY4"
   },
   "source": [
    "# Exercise 2: more bikes [OBLIGATORY]\n",
    "\n",
    "Given [this](https://github.com/vfp1/bts-mbds-data-science-foundations-2019/raw/master/sessions/data/Fremont_Bridge_Hourly_Bicycle_Counts_by_Month_October_2012_to_present.csv) dataset:\n",
    "\n",
    "* Open the dataset using Pandas\n",
    "* Display the DataFrame\n",
    "* Describe the DataFrame, can we already see some trends in regards to volume of bikes per region?\n",
    "* Reply to the following questions (either by plotting the graph and summarizing the values):\n",
    "\n",
    "    * In each one of the years from the dataset. Which is the month with the highest number of bikes?\n",
    "        * Plot each year with the number of bikes to also see it visually.\n",
    "    * In Total, when are the hours with the least amount of riders? Take into consideration all days of the week.\n",
    "        * Plot the hours with the average amount of riders.\n",
    "    * In the current year, which is the best route to bike with less people? Use the average of bikers during the whole year.\n",
    "        * Plot the bikers per hour using yearly average\n",
    "        * When is best to ride with less people between 10 to 15 in weekdays using the average of 2019?\n",
    "        * Plot the amount of bikers during those hours on weekdays"
   ]
  },
  {
   "cell_type": "markdown",
   "metadata": {},
   "source": [
    "Display the DataFrame"
   ]
  },
  {
   "cell_type": "code",
   "execution_count": 1,
   "metadata": {},
   "outputs": [
    {
     "name": "stdout",
     "output_type": "stream",
     "text": [
      "datetime64[ns]\n"
     ]
    }
   ],
   "source": [
    "import pandas as pd\n",
    "import numpy as np\n",
    "import matplotlib.pyplot as plt\n",
    "bikes=pd.read_csv('Bikes.csv',index_col='Date')\n",
    "bikes.index=pd.to_datetime(bikes.index)\n",
    "print(bikes.index.dtype)\n",
    "bikes=bikes.rename(columns={'Fremont Bridge East Sidewalk':'East', 'Fremont Bridge West Sidewalk':'West'})\n",
    "bikes.sort_values(by=['Date'], inplace=True, ascending=True)"
   ]
  },
  {
   "cell_type": "code",
   "execution_count": 2,
   "metadata": {
    "scrolled": true
   },
   "outputs": [
    {
     "data": {
      "text/html": [
       "<div>\n",
       "<style scoped>\n",
       "    .dataframe tbody tr th:only-of-type {\n",
       "        vertical-align: middle;\n",
       "    }\n",
       "\n",
       "    .dataframe tbody tr th {\n",
       "        vertical-align: top;\n",
       "    }\n",
       "\n",
       "    .dataframe thead th {\n",
       "        text-align: right;\n",
       "    }\n",
       "</style>\n",
       "<table border=\"1\" class=\"dataframe\">\n",
       "  <thead>\n",
       "    <tr style=\"text-align: right;\">\n",
       "      <th></th>\n",
       "      <th>East</th>\n",
       "      <th>West</th>\n",
       "    </tr>\n",
       "    <tr>\n",
       "      <th>Date</th>\n",
       "      <th></th>\n",
       "      <th></th>\n",
       "    </tr>\n",
       "  </thead>\n",
       "  <tbody>\n",
       "    <tr>\n",
       "      <th>2012-10-03 00:00:00</th>\n",
       "      <td>4.0</td>\n",
       "      <td>9.0</td>\n",
       "    </tr>\n",
       "    <tr>\n",
       "      <th>2012-10-03 01:00:00</th>\n",
       "      <td>4.0</td>\n",
       "      <td>6.0</td>\n",
       "    </tr>\n",
       "    <tr>\n",
       "      <th>2012-10-03 02:00:00</th>\n",
       "      <td>1.0</td>\n",
       "      <td>1.0</td>\n",
       "    </tr>\n",
       "    <tr>\n",
       "      <th>2012-10-03 03:00:00</th>\n",
       "      <td>2.0</td>\n",
       "      <td>3.0</td>\n",
       "    </tr>\n",
       "    <tr>\n",
       "      <th>2012-10-03 04:00:00</th>\n",
       "      <td>6.0</td>\n",
       "      <td>1.0</td>\n",
       "    </tr>\n",
       "  </tbody>\n",
       "</table>\n",
       "</div>"
      ],
      "text/plain": [
       "                     East  West\n",
       "Date                           \n",
       "2012-10-03 00:00:00   4.0   9.0\n",
       "2012-10-03 01:00:00   4.0   6.0\n",
       "2012-10-03 02:00:00   1.0   1.0\n",
       "2012-10-03 03:00:00   2.0   3.0\n",
       "2012-10-03 04:00:00   6.0   1.0"
      ]
     },
     "execution_count": 2,
     "metadata": {},
     "output_type": "execute_result"
    }
   ],
   "source": [
    "bikes.head()"
   ]
  },
  {
   "cell_type": "markdown",
   "metadata": {},
   "source": [
    "Describe the DataFrame, can we already see some trends in regards to volume of bikes per region?"
   ]
  },
  {
   "cell_type": "code",
   "execution_count": 3,
   "metadata": {
    "scrolled": false
   },
   "outputs": [
    {
     "name": "stdout",
     "output_type": "stream",
     "text": [
      "East    2.428217\n",
      "West    2.972636\n",
      "dtype: float64\n",
      "-----------\n",
      "East     7.627930\n",
      "West    11.262171\n",
      "dtype: float64\n"
     ]
    },
    {
     "data": {
      "text/html": [
       "<div>\n",
       "<style scoped>\n",
       "    .dataframe tbody tr th:only-of-type {\n",
       "        vertical-align: middle;\n",
       "    }\n",
       "\n",
       "    .dataframe tbody tr th {\n",
       "        vertical-align: top;\n",
       "    }\n",
       "\n",
       "    .dataframe thead th {\n",
       "        text-align: right;\n",
       "    }\n",
       "</style>\n",
       "<table border=\"1\" class=\"dataframe\">\n",
       "  <thead>\n",
       "    <tr style=\"text-align: right;\">\n",
       "      <th></th>\n",
       "      <th>East</th>\n",
       "      <th>West</th>\n",
       "    </tr>\n",
       "  </thead>\n",
       "  <tbody>\n",
       "    <tr>\n",
       "      <th>count</th>\n",
       "      <td>61287.000000</td>\n",
       "      <td>61287.000000</td>\n",
       "    </tr>\n",
       "    <tr>\n",
       "      <th>mean</th>\n",
       "      <td>52.894790</td>\n",
       "      <td>61.444874</td>\n",
       "    </tr>\n",
       "    <tr>\n",
       "      <th>std</th>\n",
       "      <td>67.815951</td>\n",
       "      <td>89.875981</td>\n",
       "    </tr>\n",
       "    <tr>\n",
       "      <th>min</th>\n",
       "      <td>0.000000</td>\n",
       "      <td>0.000000</td>\n",
       "    </tr>\n",
       "    <tr>\n",
       "      <th>25%</th>\n",
       "      <td>7.000000</td>\n",
       "      <td>7.000000</td>\n",
       "    </tr>\n",
       "    <tr>\n",
       "      <th>50%</th>\n",
       "      <td>29.000000</td>\n",
       "      <td>30.000000</td>\n",
       "    </tr>\n",
       "    <tr>\n",
       "      <th>75%</th>\n",
       "      <td>71.000000</td>\n",
       "      <td>74.000000</td>\n",
       "    </tr>\n",
       "    <tr>\n",
       "      <th>max</th>\n",
       "      <td>698.000000</td>\n",
       "      <td>850.000000</td>\n",
       "    </tr>\n",
       "  </tbody>\n",
       "</table>\n",
       "</div>"
      ],
      "text/plain": [
       "               East          West\n",
       "count  61287.000000  61287.000000\n",
       "mean      52.894790     61.444874\n",
       "std       67.815951     89.875981\n",
       "min        0.000000      0.000000\n",
       "25%        7.000000      7.000000\n",
       "50%       29.000000     30.000000\n",
       "75%       71.000000     74.000000\n",
       "max      698.000000    850.000000"
      ]
     },
     "execution_count": 3,
     "metadata": {},
     "output_type": "execute_result"
    }
   ],
   "source": [
    "from scipy.stats import kurtosis\n",
    "from scipy.stats import skew\n",
    "print(bikes.skew())\n",
    "print('-----------')\n",
    "print(bikes.kurtosis())\n",
    "bikes.describe()\n",
    "\n",
    "#the comparison of mean and standard deviation in East and West show that there is much more variability \n",
    "# in the West compared to the east, being the SD of data in the East lower in value and close to the mean \n",
    "# st East= 67.8, mean East = 52.9\n",
    "#also in the West there are hours with extremely high pick of traffic with max of 850 in one hour\n",
    "\n",
    "#both East and West have a very high skewness (higher than 1), which shows that the distribution of Data is not \n",
    "#symmetric but left Skewed, henve far for resembling a normal curve.\n",
    "#this can be seen also in the histograms below"
   ]
  },
  {
   "cell_type": "code",
   "execution_count": 4,
   "metadata": {
    "scrolled": true
   },
   "outputs": [
    {
     "name": "stderr",
     "output_type": "stream",
     "text": [
      "/Users/gvaccar/anaconda3/lib/python3.7/site-packages/numpy/lib/histograms.py:824: RuntimeWarning: invalid value encountered in greater_equal\n",
      "  keep = (tmp_a >= first_edge)\n",
      "/Users/gvaccar/anaconda3/lib/python3.7/site-packages/numpy/lib/histograms.py:825: RuntimeWarning: invalid value encountered in less_equal\n",
      "  keep &= (tmp_a <= last_edge)\n"
     ]
    },
    {
     "data": {
      "text/plain": [
       "Text(0.5, 0, 'West side of the Beidge')"
      ]
     },
     "execution_count": 4,
     "metadata": {},
     "output_type": "execute_result"
    },
    {
     "data": {
      "image/png": "[encoded data removed]",
      "text/plain": [
       "<Figure size 1440x360 with 2 Axes>"
      ]
     },
     "metadata": {
      "needs_background": "light"
     },
     "output_type": "display_data"
    }
   ],
   "source": [
    "#histograms of the distributions\n",
    "\n",
    "fig = plt.figure(figsize=(20,5))\n",
    "ax1 = fig.add_subplot(1, 2, 1)\n",
    "ax1.hist(bikes['East'], bins=25)\n",
    "plt.title('periodic cicling traffic across the Bridge')\n",
    "plt.ylabel('Frequency')\n",
    "plt.xlabel('East side of the Beidge')\n",
    "\n",
    "ax2 = fig.add_subplot(1, 2, 2)\n",
    "ax2.hist(bikes['West'], bins=25)\n",
    "plt.title('periodic cicling traffic across the Bridge')\n",
    "plt.ylabel('Frequency')\n",
    "plt.xlabel('West side of the Beidge')"
   ]
  },
  {
   "cell_type": "markdown",
   "metadata": {},
   "source": [
    "In each one of the years from the dataset. Which is the month with the highest number of bikes?\n",
    "Plot each year with the number of bikes to also see it visually"
   ]
  },
  {
   "cell_type": "code",
   "execution_count": 5,
   "metadata": {
    "scrolled": true
   },
   "outputs": [
    {
     "data": {
      "text/html": [
       "<div>\n",
       "<style scoped>\n",
       "    .dataframe tbody tr th:only-of-type {\n",
       "        vertical-align: middle;\n",
       "    }\n",
       "\n",
       "    .dataframe tbody tr th {\n",
       "        vertical-align: top;\n",
       "    }\n",
       "\n",
       "    .dataframe thead th {\n",
       "        text-align: right;\n",
       "    }\n",
       "</style>\n",
       "<table border=\"1\" class=\"dataframe\">\n",
       "  <thead>\n",
       "    <tr style=\"text-align: right;\">\n",
       "      <th></th>\n",
       "      <th>East</th>\n",
       "      <th>West</th>\n",
       "      <th>Total</th>\n",
       "    </tr>\n",
       "    <tr>\n",
       "      <th>Date</th>\n",
       "      <th></th>\n",
       "      <th></th>\n",
       "      <th></th>\n",
       "    </tr>\n",
       "  </thead>\n",
       "  <tbody>\n",
       "    <tr>\n",
       "      <th>2012-10-03 00:00:00</th>\n",
       "      <td>4.0</td>\n",
       "      <td>9.0</td>\n",
       "      <td>13.0</td>\n",
       "    </tr>\n",
       "    <tr>\n",
       "      <th>2012-10-03 01:00:00</th>\n",
       "      <td>4.0</td>\n",
       "      <td>6.0</td>\n",
       "      <td>10.0</td>\n",
       "    </tr>\n",
       "  </tbody>\n",
       "</table>\n",
       "</div>"
      ],
      "text/plain": [
       "                     East  West  Total\n",
       "Date                                  \n",
       "2012-10-03 00:00:00   4.0   9.0   13.0\n",
       "2012-10-03 01:00:00   4.0   6.0   10.0"
      ]
     },
     "execution_count": 5,
     "metadata": {},
     "output_type": "execute_result"
    }
   ],
   "source": [
    "bikes['Total'] = bikes['East']+bikes['West']\n",
    "bikes.head(2)"
   ]
  },
  {
   "cell_type": "code",
   "execution_count": 6,
   "metadata": {},
   "outputs": [
    {
     "name": "stdout",
     "output_type": "stream",
     "text": [
      "Date\n",
      "2012    October\n",
      "2013       July\n",
      "2014       July\n",
      "2015       June\n",
      "2016        May\n",
      "2017     August\n",
      "2018        May\n",
      "2019     August\n",
      "Name: Total, dtype: object\n",
      "         Total\n",
      "Date          \n",
      "2012   65695.0\n",
      "2013  117974.0\n",
      "2014  120669.0\n",
      "2015  113717.0\n",
      "2016  114159.0\n",
      "2017  120188.0\n",
      "2018  129813.0\n",
      "2019  142414.0\n"
     ]
    }
   ],
   "source": [
    "totals=bikes[['Total']].copy()\n",
    "totals_max_month=totals.resample('M').sum()\n",
    "print(totals_max_month.groupby(totals_max_month.index.year).idxmax().Total.apply(lambda x: x.strftime('%B')))\n",
    "print(totals_max_month.groupby(totals_max_month.index.year).max())"
   ]
  },
  {
   "cell_type": "code",
   "execution_count": 210,
   "metadata": {},
   "outputs": [
    {
     "data": {
      "image/png": "[encoded data removed]",
      "text/plain": [
       "<Figure size 1080x720 with 8 Axes>"
      ]
     },
     "metadata": {
      "needs_background": "light"
     },
     "output_type": "display_data"
    }
   ],
   "source": [
    "fig = plt.figure(figsize=(15,10)) \n",
    "ax1 = fig.add_subplot(3, 3, 1)\n",
    "totals_max_month['2012'].plot(ax=ax1, title='2012 monthly total rides',\n",
    "                              style=['-']);\n",
    "\n",
    "ax2 = fig.add_subplot(3, 3, 2)\n",
    "totals_max_month['2013'].plot(ax=ax2, title='2013 monthly total rides',\n",
    "                              style=['-']);\n",
    "\n",
    "ax3 = fig.add_subplot(3, 3, 3)\n",
    "totals_max_month['2014'].plot(ax=ax3, title='2014 monthly total rides',\n",
    "                              style=['-']);\n",
    "\n",
    "ax4 = fig.add_subplot(3, 3, 4)\n",
    "totals_max_month['2015'].plot(ax=ax4, title='2015 monthly total rides',\n",
    "                              style=['-']);\n",
    "\n",
    "ax5 = fig.add_subplot(3, 3, 5)\n",
    "totals_max_month['2016'].plot(ax=ax5, title='2016 monthly total rides',\n",
    "                              style=['-']);\n",
    "\n",
    "ax6 = fig.add_subplot(3, 3, 6)\n",
    "totals_max_month['2017'].plot(ax=ax6, title='2017 monthly total rides',\n",
    "                              style=['-']);\n",
    "\n",
    "ax7 = fig.add_subplot(3, 3, 7)\n",
    "totals_max_month['2018'].plot(ax=ax7, title='2018 monthly total rides',\n",
    "                              style=['-']);\n",
    "\n",
    "ax8 = fig.add_subplot(3, 3, 8)\n",
    "totals_max_month['2019'].plot(ax=ax8, title='2019 monthly total rides',\n",
    "                              style=['-']);"
   ]
  },
  {
   "cell_type": "markdown",
   "metadata": {},
   "source": [
    "In Total, when are the hours with the least amount of riders? Take into consideration all days of the week.\n",
    "Plot the hours with the average amount of riders."
   ]
  },
  {
   "cell_type": "code",
   "execution_count": 332,
   "metadata": {
    "scrolled": true
   },
   "outputs": [
    {
     "data": {
      "text/html": [
       "<div>\n",
       "<style scoped>\n",
       "    .dataframe tbody tr th:only-of-type {\n",
       "        vertical-align: middle;\n",
       "    }\n",
       "\n",
       "    .dataframe tbody tr th {\n",
       "        vertical-align: top;\n",
       "    }\n",
       "\n",
       "    .dataframe thead th {\n",
       "        text-align: right;\n",
       "    }\n",
       "</style>\n",
       "<table border=\"1\" class=\"dataframe\">\n",
       "  <thead>\n",
       "    <tr style=\"text-align: right;\">\n",
       "      <th></th>\n",
       "      <th>Total</th>\n",
       "    </tr>\n",
       "    <tr>\n",
       "      <th>Weekdays</th>\n",
       "      <th></th>\n",
       "    </tr>\n",
       "  </thead>\n",
       "  <tbody>\n",
       "    <tr>\n",
       "      <th>0</th>\n",
       "      <td>(0, 3)</td>\n",
       "    </tr>\n",
       "    <tr>\n",
       "      <th>1</th>\n",
       "      <td>(1, 3)</td>\n",
       "    </tr>\n",
       "    <tr>\n",
       "      <th>2</th>\n",
       "      <td>(2, 3)</td>\n",
       "    </tr>\n",
       "    <tr>\n",
       "      <th>3</th>\n",
       "      <td>(3, 3)</td>\n",
       "    </tr>\n",
       "    <tr>\n",
       "      <th>4</th>\n",
       "      <td>(4, 3)</td>\n",
       "    </tr>\n",
       "    <tr>\n",
       "      <th>5</th>\n",
       "      <td>(5, 3)</td>\n",
       "    </tr>\n",
       "    <tr>\n",
       "      <th>6</th>\n",
       "      <td>(6, 3)</td>\n",
       "    </tr>\n",
       "  </tbody>\n",
       "</table>\n",
       "</div>"
      ],
      "text/plain": [
       "           Total\n",
       "Weekdays        \n",
       "0         (0, 3)\n",
       "1         (1, 3)\n",
       "2         (2, 3)\n",
       "3         (3, 3)\n",
       "4         (4, 3)\n",
       "5         (5, 3)\n",
       "6         (6, 3)"
      ]
     },
     "execution_count": 332,
     "metadata": {},
     "output_type": "execute_result"
    }
   ],
   "source": [
    "totals['Weekdays'] = totals.index.weekday\n",
    "totals['Hours'] = totals.index.hour\n",
    "hour_least_riders=totals.groupby(['Weekdays','Hours']).mean()\n",
    "\n",
    "hour_least_riders.groupby('Weekdays').idxmin()\n",
    "\n",
    "# Answer. for each dy of the week the hours with the least amount of riders is 3:am"
   ]
  },
  {
   "cell_type": "code",
   "execution_count": 343,
   "metadata": {},
   "outputs": [
    {
     "data": {
      "image/png": "[encoded data removed]",
      "text/plain": [
       "<Figure size 720x360 with 1 Axes>"
      ]
     },
     "metadata": {
      "needs_background": "light"
     },
     "output_type": "display_data"
    }
   ],
   "source": [
    "average_riders_per_hour =hour_least_riders.groupby('Hours').mean()\n",
    "\n",
    "fig = plt.figure(figsize=(10,5)) \n",
    "ax = fig.add_subplot(1, 1, 1)\n",
    "average_riders_per_hour.plot(ax=ax,title='Average traffic per hour',style=['-']);\n"
   ]
  },
  {
   "cell_type": "markdown",
   "metadata": {},
   "source": [
    "In the current year, which is the best route to bike with less people? Use the average of bikers during the whole year.\n",
    "\n",
    "Plot the bikers per hour using yearly average\n",
    "\n",
    "When is best to ride with less people between 10 to 15 in weekdays using the average of 2019?\n",
    "\n",
    "Plot the amount of bikers during those hours on weekdays"
   ]
  },
  {
   "cell_type": "code",
   "execution_count": 9,
   "metadata": {},
   "outputs": [
    {
     "name": "stdout",
     "output_type": "stream",
     "text": [
      "East      55.194292\n",
      "West      87.709860\n",
      "Total    142.904151\n",
      "dtype: float64\n"
     ]
    }
   ],
   "source": [
    "year_2019= bikes.loc['2019']\n",
    "print(year_2019.mean())\n",
    "# the route with less people is Rout East"
   ]
  },
  {
   "cell_type": "code",
   "execution_count": 10,
   "metadata": {
    "scrolled": true
   },
   "outputs": [
    {
     "data": {
      "image/png": "[encoded data removed]",
      "text/plain": [
       "<Figure size 1008x360 with 1 Axes>"
      ]
     },
     "metadata": {
      "needs_background": "light"
     },
     "output_type": "display_data"
    }
   ],
   "source": [
    "bikers_hour= year_2019.groupby(year_2019.index.hour).mean()\n",
    "fig, ax = plt.subplots(1, 1, figsize=(14, 5))\n",
    "bikers_hour.plot(ax=ax, title='average bikers per hour during 2019',style=[':', '--', '-']);"
   ]
  },
  {
   "cell_type": "code",
   "execution_count": 11,
   "metadata": {},
   "outputs": [
    {
     "data": {
      "text/plain": [
       "East     10:00:00\n",
       "West     10:00:00\n",
       "Total    10:00:00\n",
       "dtype: object"
      ]
     },
     "execution_count": 11,
     "metadata": {},
     "output_type": "execute_result"
    }
   ],
   "source": [
    "#When is best to ride with less people between 10 to 15 in weekdays using the average of 2019?\n",
    "weekday= np.where(year_2019.index.weekday > 5, 'Weekday', 'Weekend')\n",
    "\n",
    "weekday_2019 = year_2019.groupby([weekday,year_2019.index.time]).mean()\n",
    "weekday_2019.loc['Weekday'][10:16].idxmin()\n",
    "\n",
    "#answer: the best is at 10 o'clock in both East and West"
   ]
  },
  {
   "cell_type": "code",
   "execution_count": 12,
   "metadata": {},
   "outputs": [
    {
     "data": {
      "image/png": "[encoded data removed]",
      "text/plain": [
       "<Figure size 1008x360 with 1 Axes>"
      ]
     },
     "metadata": {
      "needs_background": "light"
     },
     "output_type": "display_data"
    }
   ],
   "source": [
    "#Plot the amount of bikers during those hours on weekdays\n",
    "fig, ax = plt.subplots(1, 1, figsize=(14, 5))\n",
    "weekday_2019.loc['Weekday'][10:16].plot(ax=ax, title='amount of bikes on weekdays between 10 and 15',style=[':', '--', '-']);\n"
   ]
  },
  {
   "cell_type": "markdown",
   "metadata": {
    "colab_type": "text",
    "id": "kRIP0xZeYrvn"
   },
   "source": [
    "# Exercise 3: SQLite and Pandas [OBLIGATORY]\n",
    "\n",
    "Download [this Sqlite database](https://github.com/vfp1/bts-mbds-data-science-foundations-2019/raw/master/sessions/data/flights.db)\n",
    "\n",
    "You can either use SQLite database entirely or load the SQL query in Pandas to reply to the following questions:\n",
    "\n",
    "*   Which is the highest city that as an airport?\n",
    "*   And which is the lowest city that as an airport?\n",
    "*   Retrieve the timezones and generate a dataframe with the timezones and the amount of airports in them. Plot it as a histogram as well.\n",
    "*   Which country has more airlines? And which one has less?\n",
    "*   Which city has the most outgoing destinations? And the least?\n",
    "*   And which city has the most incoming destinations? And the least?\n",
    "\n"
   ]
  },
  {
   "cell_type": "code",
   "execution_count": 13,
   "metadata": {
    "colab": {},
    "colab_type": "code",
    "id": "pScF0XDi0ps3"
   },
   "outputs": [],
   "source": [
    "import sqlite3\n",
    "\n",
    "def connect_database(db_name):\n",
    "    connection = sqlite3.connect(db_name)\n",
    "    cursor = connection.cursor()\n",
    "    \n",
    "    return connection, cursor"
   ]
  },
  {
   "cell_type": "code",
   "execution_count": 14,
   "metadata": {
    "scrolled": true
   },
   "outputs": [
    {
     "name": "stdout",
     "output_type": "stream",
     "text": [
      "[('airports',), ('airlines',), ('routes',)]\n"
     ]
    }
   ],
   "source": [
    "connection, cursor = connect_database('flights.db')\n",
    "\n",
    "cursor.execute(\"SELECT name FROM SQLite_master WHERE type='table';\")\n",
    "tables = cursor.fetchall()\n",
    "print(tables)"
   ]
  },
  {
   "cell_type": "markdown",
   "metadata": {},
   "source": [
    "Which is the highest city that as an airport?"
   ]
  },
  {
   "cell_type": "code",
   "execution_count": 32,
   "metadata": {
    "scrolled": true
   },
   "outputs": [
    {
     "data": {
      "text/html": [
       "<div>\n",
       "<style scoped>\n",
       "    .dataframe tbody tr th:only-of-type {\n",
       "        vertical-align: middle;\n",
       "    }\n",
       "\n",
       "    .dataframe tbody tr th {\n",
       "        vertical-align: top;\n",
       "    }\n",
       "\n",
       "    .dataframe thead th {\n",
       "        text-align: right;\n",
       "    }\n",
       "</style>\n",
       "<table border=\"1\" class=\"dataframe\">\n",
       "  <thead>\n",
       "    <tr style=\"text-align: right;\">\n",
       "      <th></th>\n",
       "      <th>city</th>\n",
       "      <th>CAST(altitude AS float)</th>\n",
       "    </tr>\n",
       "  </thead>\n",
       "  <tbody>\n",
       "    <tr>\n",
       "      <th>0</th>\n",
       "      <td>Daocheng</td>\n",
       "      <td>14472.0</td>\n",
       "    </tr>\n",
       "    <tr>\n",
       "      <th>1</th>\n",
       "      <td>Bangda</td>\n",
       "      <td>14219.0</td>\n",
       "    </tr>\n",
       "    <tr>\n",
       "      <th>2</th>\n",
       "      <td>Kangding</td>\n",
       "      <td>14042.0</td>\n",
       "    </tr>\n",
       "  </tbody>\n",
       "</table>\n",
       "</div>"
      ],
      "text/plain": [
       "       city  CAST(altitude AS float)\n",
       "0  Daocheng                  14472.0\n",
       "1    Bangda                  14219.0\n",
       "2  Kangding                  14042.0"
      ]
     },
     "execution_count": 32,
     "metadata": {},
     "output_type": "execute_result"
    }
   ],
   "source": [
    "# i am using CAST (Altutude AS float given that the altitude values in the Database are reported as strings,\n",
    "# hence I am converting them in floats)\n",
    "\n",
    "first_query = '''SELECT city, CAST(altitude AS float)\n",
    "FROM airports\n",
    "ORDER BY 2 DESC\n",
    "LIMIT 3'''\n",
    "\n",
    "cities_altitude = pd.read_sql_query(first_query, connection)\n",
    "cities_altitude\n",
    "#answer: the city that has an airport with the highest altitude are Akola and Dauphin"
   ]
  },
  {
   "cell_type": "markdown",
   "metadata": {},
   "source": [
    "And which is the lowest city that as an airport?"
   ]
  },
  {
   "cell_type": "code",
   "execution_count": 34,
   "metadata": {},
   "outputs": [
    {
     "data": {
      "text/html": [
       "<div>\n",
       "<style scoped>\n",
       "    .dataframe tbody tr th:only-of-type {\n",
       "        vertical-align: middle;\n",
       "    }\n",
       "\n",
       "    .dataframe tbody tr th {\n",
       "        vertical-align: top;\n",
       "    }\n",
       "\n",
       "    .dataframe thead th {\n",
       "        text-align: right;\n",
       "    }\n",
       "</style>\n",
       "<table border=\"1\" class=\"dataframe\">\n",
       "  <thead>\n",
       "    <tr style=\"text-align: right;\">\n",
       "      <th></th>\n",
       "      <th>city</th>\n",
       "      <th>CAST(altitude AS float)</th>\n",
       "    </tr>\n",
       "  </thead>\n",
       "  <tbody>\n",
       "    <tr>\n",
       "      <th>0</th>\n",
       "      <td>Metzada</td>\n",
       "      <td>-1266.0</td>\n",
       "    </tr>\n",
       "    <tr>\n",
       "      <th>1</th>\n",
       "      <td>Eyn-yahav</td>\n",
       "      <td>-164.0</td>\n",
       "    </tr>\n",
       "    <tr>\n",
       "      <th>2</th>\n",
       "      <td>Ramsar</td>\n",
       "      <td>-70.0</td>\n",
       "    </tr>\n",
       "  </tbody>\n",
       "</table>\n",
       "</div>"
      ],
      "text/plain": [
       "        city  CAST(altitude AS float)\n",
       "0    Metzada                  -1266.0\n",
       "1  Eyn-yahav                   -164.0\n",
       "2     Ramsar                    -70.0"
      ]
     },
     "execution_count": 34,
     "metadata": {},
     "output_type": "execute_result"
    }
   ],
   "source": [
    "second_query = '''SELECT city, CAST(altitude AS float)\n",
    "FROM airports\n",
    "ORDER BY 2 ASC\n",
    "LIMIT 3'''\n",
    "\n",
    "cities_altitude_lowest = pd.read_sql_query(second_query, connection)\n",
    "cities_altitude_lowest\n",
    "\n",
    "#answer is Metzada"
   ]
  },
  {
   "cell_type": "markdown",
   "metadata": {},
   "source": [
    "Retrieve the timezones and generate a dataframe with the timezones and the amount of airports in them."
   ]
  },
  {
   "cell_type": "code",
   "execution_count": 60,
   "metadata": {
    "scrolled": true
   },
   "outputs": [
    {
     "data": {
      "text/html": [
       "<div>\n",
       "<style scoped>\n",
       "    .dataframe tbody tr th:only-of-type {\n",
       "        vertical-align: middle;\n",
       "    }\n",
       "\n",
       "    .dataframe tbody tr th {\n",
       "        vertical-align: top;\n",
       "    }\n",
       "\n",
       "    .dataframe thead th {\n",
       "        text-align: right;\n",
       "    }\n",
       "</style>\n",
       "<table border=\"1\" class=\"dataframe\">\n",
       "  <thead>\n",
       "    <tr style=\"text-align: right;\">\n",
       "      <th></th>\n",
       "      <th>timezone</th>\n",
       "      <th>number of airports</th>\n",
       "    </tr>\n",
       "  </thead>\n",
       "  <tbody>\n",
       "    <tr>\n",
       "      <th>0</th>\n",
       "      <td>America/New_York</td>\n",
       "      <td>628</td>\n",
       "    </tr>\n",
       "    <tr>\n",
       "      <th>1</th>\n",
       "      <td>America/Chicago</td>\n",
       "      <td>373</td>\n",
       "    </tr>\n",
       "    <tr>\n",
       "      <th>2</th>\n",
       "      <td>Europe/Berlin</td>\n",
       "      <td>319</td>\n",
       "    </tr>\n",
       "    <tr>\n",
       "      <th>3</th>\n",
       "      <td>America/Anchorage</td>\n",
       "      <td>258</td>\n",
       "    </tr>\n",
       "    <tr>\n",
       "      <th>4</th>\n",
       "      <td>Europe/Paris</td>\n",
       "      <td>232</td>\n",
       "    </tr>\n",
       "  </tbody>\n",
       "</table>\n",
       "</div>"
      ],
      "text/plain": [
       "            timezone  number of airports\n",
       "0   America/New_York                 628\n",
       "1    America/Chicago                 373\n",
       "2      Europe/Berlin                 319\n",
       "3  America/Anchorage                 258\n",
       "4       Europe/Paris                 232"
      ]
     },
     "execution_count": 60,
     "metadata": {},
     "output_type": "execute_result"
    }
   ],
   "source": [
    "third_query = '''SELECT timezone, COUNT(name)\n",
    "FROM airports\n",
    "GROUP BY timezone\n",
    "ORDER BY COUNT (name) DESC'''\n",
    "\n",
    "\n",
    "timezones = pd.read_sql_query(third_query, connection)\n",
    "timezones=timezones.rename(columns={'COUNT(name)': 'number of airports'})\n",
    "timezones.head()"
   ]
  },
  {
   "cell_type": "markdown",
   "metadata": {},
   "source": [
    "Plot it as a histogram as well."
   ]
  },
  {
   "cell_type": "code",
   "execution_count": 88,
   "metadata": {},
   "outputs": [
    {
     "data": {
      "text/plain": [
       "<matplotlib.axes._subplots.AxesSubplot at 0x1a2ef11198>"
      ]
     },
     "execution_count": 88,
     "metadata": {},
     "output_type": "execute_result"
    },
    {
     "data": {
      "image/png": "[encoded data removed]",
      "text/plain": [
       "<Figure size 432x288 with 1 Axes>"
      ]
     },
     "metadata": {
      "needs_background": "light"
     },
     "output_type": "display_data"
    }
   ],
   "source": [
    "timezones.plot.hist(alpha=0.5)"
   ]
  },
  {
   "cell_type": "markdown",
   "metadata": {},
   "source": [
    "Which country has more airlines? And which one has less?"
   ]
  },
  {
   "cell_type": "code",
   "execution_count": 113,
   "metadata": {},
   "outputs": [
    {
     "data": {
      "text/html": [
       "<div>\n",
       "<style scoped>\n",
       "    .dataframe tbody tr th:only-of-type {\n",
       "        vertical-align: middle;\n",
       "    }\n",
       "\n",
       "    .dataframe tbody tr th {\n",
       "        vertical-align: top;\n",
       "    }\n",
       "\n",
       "    .dataframe thead th {\n",
       "        text-align: right;\n",
       "    }\n",
       "</style>\n",
       "<table border=\"1\" class=\"dataframe\">\n",
       "  <thead>\n",
       "    <tr style=\"text-align: right;\">\n",
       "      <th></th>\n",
       "      <th>country</th>\n",
       "      <th>number of airlines</th>\n",
       "    </tr>\n",
       "  </thead>\n",
       "  <tbody>\n",
       "    <tr>\n",
       "      <th>0</th>\n",
       "      <td>United States</td>\n",
       "      <td>1080</td>\n",
       "    </tr>\n",
       "    <tr>\n",
       "      <th>1</th>\n",
       "      <td>Mexico</td>\n",
       "      <td>439</td>\n",
       "    </tr>\n",
       "    <tr>\n",
       "      <th>2</th>\n",
       "      <td>United Kingdom</td>\n",
       "      <td>407</td>\n",
       "    </tr>\n",
       "  </tbody>\n",
       "</table>\n",
       "</div>"
      ],
      "text/plain": [
       "          country  number of airlines\n",
       "0   United States                1080\n",
       "1          Mexico                 439\n",
       "2  United Kingdom                 407"
      ]
     },
     "execution_count": 113,
     "metadata": {},
     "output_type": "execute_result"
    }
   ],
   "source": [
    "query4='''SELECT country, COUNT(name)\n",
    "FROM airlines\n",
    "GROUP BY country\n",
    "ORDER BY COUNT(name) DESC\n",
    "LIMIT 3'''\n",
    "\n",
    "more_airlines = pd.read_sql_query(query4, connection)\n",
    "more_airlines=more_airlines.rename(columns={'COUNT(name)': 'number of airlines'})\n",
    "more_airlines\n",
    "#answer: the countrywith more airlines (including active and not active) is USA"
   ]
  },
  {
   "cell_type": "code",
   "execution_count": 121,
   "metadata": {},
   "outputs": [
    {
     "data": {
      "text/html": [
       "<div>\n",
       "<style scoped>\n",
       "    .dataframe tbody tr th:only-of-type {\n",
       "        vertical-align: middle;\n",
       "    }\n",
       "\n",
       "    .dataframe tbody tr th {\n",
       "        vertical-align: top;\n",
       "    }\n",
       "\n",
       "    .dataframe thead th {\n",
       "        text-align: right;\n",
       "    }\n",
       "</style>\n",
       "<table border=\"1\" class=\"dataframe\">\n",
       "  <thead>\n",
       "    <tr style=\"text-align: right;\">\n",
       "      <th></th>\n",
       "      <th>country</th>\n",
       "      <th>number of airlines</th>\n",
       "    </tr>\n",
       "  </thead>\n",
       "  <tbody>\n",
       "    <tr>\n",
       "      <th>0</th>\n",
       "      <td>Boonville Stage Line</td>\n",
       "      <td>1</td>\n",
       "    </tr>\n",
       "    <tr>\n",
       "      <th>1</th>\n",
       "      <td>S.A.</td>\n",
       "      <td>1</td>\n",
       "    </tr>\n",
       "    <tr>\n",
       "      <th>2</th>\n",
       "      <td>ACOM</td>\n",
       "      <td>1</td>\n",
       "    </tr>\n",
       "    <tr>\n",
       "      <th>3</th>\n",
       "      <td>ACTIVE AERO</td>\n",
       "      <td>1</td>\n",
       "    </tr>\n",
       "    <tr>\n",
       "      <th>4</th>\n",
       "      <td>AEROCENTER</td>\n",
       "      <td>1</td>\n",
       "    </tr>\n",
       "  </tbody>\n",
       "</table>\n",
       "</div>"
      ],
      "text/plain": [
       "                 country  number of airlines\n",
       "0   Boonville Stage Line                   1\n",
       "1                   S.A.                   1\n",
       "2                   ACOM                   1\n",
       "3            ACTIVE AERO                   1\n",
       "4             AEROCENTER                   1"
      ]
     },
     "execution_count": 121,
     "metadata": {},
     "output_type": "execute_result"
    }
   ],
   "source": [
    "query5='''SELECT country, COUNT(name)\n",
    "FROM airlines\n",
    "GROUP BY country\n",
    "ORDER BY COUNT(name) ASC\n",
    "lIMIT 5'''\n",
    "\n",
    "less_airlines = pd.read_sql_query(query5, connection)\n",
    "less_airlines=less_airlines.rename(columns={'COUNT(name)': 'number of airlines'})\n",
    "less_airlines"
   ]
  },
  {
   "cell_type": "markdown",
   "metadata": {},
   "source": [
    "Which city has the most outgoing destinations? And the least?"
   ]
  },
  {
   "cell_type": "code",
   "execution_count": 159,
   "metadata": {},
   "outputs": [
    {
     "data": {
      "text/html": [
       "<div>\n",
       "<style scoped>\n",
       "    .dataframe tbody tr th:only-of-type {\n",
       "        vertical-align: middle;\n",
       "    }\n",
       "\n",
       "    .dataframe tbody tr th {\n",
       "        vertical-align: top;\n",
       "    }\n",
       "\n",
       "    .dataframe thead th {\n",
       "        text-align: right;\n",
       "    }\n",
       "</style>\n",
       "<table border=\"1\" class=\"dataframe\">\n",
       "  <thead>\n",
       "    <tr style=\"text-align: right;\">\n",
       "      <th></th>\n",
       "      <th>city</th>\n",
       "      <th>COUNT(dest)</th>\n",
       "    </tr>\n",
       "  </thead>\n",
       "  <tbody>\n",
       "    <tr>\n",
       "      <th>0</th>\n",
       "      <td>London</td>\n",
       "      <td>1224</td>\n",
       "    </tr>\n",
       "    <tr>\n",
       "      <th>1</th>\n",
       "      <td>Atlanta</td>\n",
       "      <td>911</td>\n",
       "    </tr>\n",
       "    <tr>\n",
       "      <th>2</th>\n",
       "      <td>Paris</td>\n",
       "      <td>720</td>\n",
       "    </tr>\n",
       "  </tbody>\n",
       "</table>\n",
       "</div>"
      ],
      "text/plain": [
       "      city  COUNT(dest)\n",
       "0   London         1224\n",
       "1  Atlanta          911\n",
       "2    Paris          720"
      ]
     },
     "execution_count": 159,
     "metadata": {},
     "output_type": "execute_result"
    }
   ],
   "source": [
    "query11='''SELECT city, COUNT(dest)\n",
    "FROM routes AS rt INNER JOIN airports AS arp\n",
    "ON rt.dest = arp.code\n",
    "GROUP BY city\n",
    "ORDER BY 2 DESC\n",
    "LIMIT 3'''\n",
    "\n",
    "overview = pd.read_sql_query(query11, connection)\n",
    "overview\n",
    "# anwer: the city with the most outgoing destination is London"
   ]
  },
  {
   "cell_type": "code",
   "execution_count": 168,
   "metadata": {},
   "outputs": [
    {
     "data": {
      "text/html": [
       "<div>\n",
       "<style scoped>\n",
       "    .dataframe tbody tr th:only-of-type {\n",
       "        vertical-align: middle;\n",
       "    }\n",
       "\n",
       "    .dataframe tbody tr th {\n",
       "        vertical-align: top;\n",
       "    }\n",
       "\n",
       "    .dataframe thead th {\n",
       "        text-align: right;\n",
       "    }\n",
       "</style>\n",
       "<table border=\"1\" class=\"dataframe\">\n",
       "  <thead>\n",
       "    <tr style=\"text-align: right;\">\n",
       "      <th></th>\n",
       "      <th>city</th>\n",
       "      <th>COUNT(dest)</th>\n",
       "    </tr>\n",
       "  </thead>\n",
       "  <tbody>\n",
       "    <tr>\n",
       "      <th>0</th>\n",
       "      <td>Abu Simbel</td>\n",
       "      <td>1</td>\n",
       "    </tr>\n",
       "    <tr>\n",
       "      <th>1</th>\n",
       "      <td>Achutupo</td>\n",
       "      <td>1</td>\n",
       "    </tr>\n",
       "    <tr>\n",
       "      <th>2</th>\n",
       "      <td>Adak Island</td>\n",
       "      <td>1</td>\n",
       "    </tr>\n",
       "  </tbody>\n",
       "</table>\n",
       "</div>"
      ],
      "text/plain": [
       "          city  COUNT(dest)\n",
       "0   Abu Simbel            1\n",
       "1     Achutupo            1\n",
       "2  Adak Island            1"
      ]
     },
     "execution_count": 168,
     "metadata": {},
     "output_type": "execute_result"
    }
   ],
   "source": [
    "query12='''SELECT city, COUNT(dest)\n",
    "FROM routes AS rt INNER JOIN airports AS arp\n",
    "ON rt.dest = arp.code\n",
    "GROUP BY city\n",
    "ORDER BY 2 ASC\n",
    "LIMIT 3'''\n",
    "\n",
    "overview = pd.read_sql_query(query12, connection)\n",
    "overview"
   ]
  },
  {
   "cell_type": "markdown",
   "metadata": {},
   "source": [
    "And which city has the most incoming destinations? And the least?"
   ]
  },
  {
   "cell_type": "code",
   "execution_count": 163,
   "metadata": {},
   "outputs": [
    {
     "data": {
      "text/html": [
       "<div>\n",
       "<style scoped>\n",
       "    .dataframe tbody tr th:only-of-type {\n",
       "        vertical-align: middle;\n",
       "    }\n",
       "\n",
       "    .dataframe tbody tr th {\n",
       "        vertical-align: top;\n",
       "    }\n",
       "\n",
       "    .dataframe thead th {\n",
       "        text-align: right;\n",
       "    }\n",
       "</style>\n",
       "<table border=\"1\" class=\"dataframe\">\n",
       "  <thead>\n",
       "    <tr style=\"text-align: right;\">\n",
       "      <th></th>\n",
       "      <th>city</th>\n",
       "      <th>COUNT(source)</th>\n",
       "    </tr>\n",
       "  </thead>\n",
       "  <tbody>\n",
       "    <tr>\n",
       "      <th>0</th>\n",
       "      <td>London</td>\n",
       "      <td>1232</td>\n",
       "    </tr>\n",
       "    <tr>\n",
       "      <th>1</th>\n",
       "      <td>Atlanta</td>\n",
       "      <td>915</td>\n",
       "    </tr>\n",
       "    <tr>\n",
       "      <th>2</th>\n",
       "      <td>Paris</td>\n",
       "      <td>725</td>\n",
       "    </tr>\n",
       "  </tbody>\n",
       "</table>\n",
       "</div>"
      ],
      "text/plain": [
       "      city  COUNT(source)\n",
       "0   London           1232\n",
       "1  Atlanta            915\n",
       "2    Paris            725"
      ]
     },
     "execution_count": 163,
     "metadata": {},
     "output_type": "execute_result"
    }
   ],
   "source": [
    "query13='''SELECT city, COUNT(source)\n",
    "FROM routes AS rt INNER JOIN airports AS arp\n",
    "ON rt.source = arp.code\n",
    "GROUP BY city\n",
    "ORDER BY 2 DESC\n",
    "LIMIT 3'''\n",
    "\n",
    "overview = pd.read_sql_query(query13, connection)\n",
    "overview\n",
    "# anwer: the city with the most incoming destination is London"
   ]
  },
  {
   "cell_type": "code",
   "execution_count": 169,
   "metadata": {},
   "outputs": [
    {
     "data": {
      "text/html": [
       "<div>\n",
       "<style scoped>\n",
       "    .dataframe tbody tr th:only-of-type {\n",
       "        vertical-align: middle;\n",
       "    }\n",
       "\n",
       "    .dataframe tbody tr th {\n",
       "        vertical-align: top;\n",
       "    }\n",
       "\n",
       "    .dataframe thead th {\n",
       "        text-align: right;\n",
       "    }\n",
       "</style>\n",
       "<table border=\"1\" class=\"dataframe\">\n",
       "  <thead>\n",
       "    <tr style=\"text-align: right;\">\n",
       "      <th></th>\n",
       "      <th>city</th>\n",
       "      <th>COUNT(source)</th>\n",
       "    </tr>\n",
       "  </thead>\n",
       "  <tbody>\n",
       "    <tr>\n",
       "      <th>0</th>\n",
       "      <td>Abu Simbel</td>\n",
       "      <td>1</td>\n",
       "    </tr>\n",
       "    <tr>\n",
       "      <th>1</th>\n",
       "      <td>Achutupo</td>\n",
       "      <td>1</td>\n",
       "    </tr>\n",
       "    <tr>\n",
       "      <th>2</th>\n",
       "      <td>Adak Island</td>\n",
       "      <td>1</td>\n",
       "    </tr>\n",
       "  </tbody>\n",
       "</table>\n",
       "</div>"
      ],
      "text/plain": [
       "          city  COUNT(source)\n",
       "0   Abu Simbel              1\n",
       "1     Achutupo              1\n",
       "2  Adak Island              1"
      ]
     },
     "execution_count": 169,
     "metadata": {},
     "output_type": "execute_result"
    }
   ],
   "source": [
    "query14='''SELECT city, COUNT(source)\n",
    "FROM routes AS rt INNER JOIN airports AS arp\n",
    "ON rt.source = arp.code\n",
    "GROUP BY city\n",
    "ORDER BY 2 ASC\n",
    "LIMIT 3'''\n",
    "\n",
    "overview = pd.read_sql_query(query14, connection)\n",
    "overview"
   ]
  }
 ],
 "metadata": {
  "colab": {
   "collapsed_sections": [],
   "name": "DSF_WEEK_2_EXERCISES.ipynb",
   "provenance": []
  },
  "kernelspec": {
   "display_name": "Python 3",
   "language": "python",
   "name": "python3"
  },
  "language_info": {
   "codemirror_mode": {
    "name": "ipython",
    "version": 3
   },
   "file_extension": ".py",
   "mimetype": "text/x-python",
   "name": "python",
   "nbconvert_exporter": "python",
   "pygments_lexer": "ipython3",
   "version": "3.7.3"
  }
 },
 "nbformat": 4,
 "nbformat_minor": 1
}
